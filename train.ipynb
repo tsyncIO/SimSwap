{
  "cells": [
    {
      "cell_type": "markdown",
      "metadata": {
        "id": "fC7QoKePuJWu"
      },
      "source": [
        "#Training Demo\n",
        "This is a simple example for training the SimSwap 224*224 with VGGFace2-224.\n",
        "\n",
        "Code path: https://github.com/neuralchen/SimSwap\n",
        "If you like the SimSwap project, please star it!\n",
        "Paper path: https://arxiv.org/pdf/2106.06340v1.pdf or https://dl.acm.org/doi/10.1145/3394171.3413630"
      ]
    },
    {
      "cell_type": "code",
      "execution_count": 1,
      "metadata": {
        "id": "J8WrNaQHuUGC"
      },
      "outputs": [],
      "source": [
        "# !nvidia-smi"
      ]
    },
    {
      "cell_type": "markdown",
      "metadata": {
        "id": "Z6BtQIgWuoqt"
      },
      "source": [
        "Installation\n",
        "All file changes made by this notebook are temporary. You can try to mount your own google drive to store files if you want."
      ]
    },
    {
      "cell_type": "markdown",
      "metadata": {
        "id": "wdQJ9d8N8Tnf"
      },
      "source": [
        "#Get Scripts"
      ]
    },
    {
      "cell_type": "code",
      "execution_count": 1,
      "metadata": {
        "id": "9jZWwt97uvIe",
        "outputId": "9902e67d-4426-4a9d-ec68-e91d60b28bd7",
        "colab": {
          "base_uri": "https://localhost:8080/"
        }
      },
      "outputs": [
        {
          "output_type": "stream",
          "name": "stdout",
          "text": [
            "Cloning into 'SimSwap'...\n",
            "remote: Enumerating objects: 1141, done.\u001b[K\n",
            "remote: Counting objects: 100% (501/501), done.\u001b[K\n",
            "remote: Compressing objects: 100% (118/118), done.\u001b[K\n",
            "remote: Total 1141 (delta 416), reused 383 (delta 383), pack-reused 640 (from 2)\u001b[K\n",
            "Receiving objects: 100% (1141/1141), 211.46 MiB | 15.42 MiB/s, done.\n",
            "Resolving deltas: 100% (602/602), done.\n",
            "Already up to date.\n"
          ]
        }
      ],
      "source": [
        "!git clone https://github.com/neuralchen/SimSwap\n",
        "!cd SimSwap && git pull"
      ]
    },
    {
      "cell_type": "markdown",
      "metadata": {
        "id": "ATLrrbso8Y-Y"
      },
      "source": [
        "# Install Blocks"
      ]
    },
    {
      "cell_type": "code",
      "execution_count": null,
      "metadata": {
        "id": "rwvbPhtOvZAL"
      },
      "outputs": [],
      "source": [
        "!pip install timm==0.5.4\n",
        "!wget -P SimSwap/arcface_model https://github.com/neuralchen/SimSwap/releases/download/1.0/arcface_checkpoint.tar"
      ]
    },
    {
      "cell_type": "markdown",
      "metadata": {
        "id": "hleVtHIJ_QUK"
      },
      "source": [
        "#Download the Training Dataset\n",
        "We employ the cropped VGGFace2-224 dataset for this toy training demo.\n",
        "\n",
        "You can download the dataset from our google driver https://drive.google.com/file/d/19pWvdEHS-CEG6tW3PdxdtZ5QEymVjImc/view?usp=sharing\n",
        "\n",
        "***Please check the dataset in dir /content/TrainingData***\n",
        "\n",
        "***If dataset already exists in /content/TrainingData, please do not run blow scripts!***\n"
      ]
    },
    {
      "cell_type": "code",
      "source": [
        "from google.colab import drive\n",
        "drive.mount('/content/drive')"
      ],
      "metadata": {
        "id": "6H8MCCedJA7s",
        "outputId": "b20c927f-570b-445c-fa26-7543e16805ca",
        "colab": {
          "base_uri": "https://localhost:8080/"
        }
      },
      "execution_count": 2,
      "outputs": [
        {
          "output_type": "stream",
          "name": "stdout",
          "text": [
            "Mounted at /content/drive\n"
          ]
        }
      ]
    },
    {
      "cell_type": "code",
      "source": [
        "!mkdir /content/TrainingData\n",
        "!tar -xvf /content/drive/MyDrive/vggface2_crop_arcfacealign_224.tar -C /content/TrainingData/"
      ],
      "metadata": {
        "collapsed": true,
        "id": "XWZZK70ubF0p"
      },
      "execution_count": null,
      "outputs": []
    },
    {
      "cell_type": "code",
      "source": [
        "!rm /content/drive/MyDrive/vggface2_crop_arcfacealign_224.tar"
      ],
      "metadata": {
        "id": "uQ144mEaZaes"
      },
      "execution_count": 7,
      "outputs": []
    },
    {
      "cell_type": "markdown",
      "metadata": {
        "id": "o5SNDWzA8LjJ"
      },
      "source": [
        "##Training\n",
        "###Batch size must larger than 1!"
      ]
    },
    {
      "cell_type": "code",
      "source": [
        "file_path = \"/content/SimSwap/models/projected_model.py\"\n",
        "\n",
        "# Read the file and modify the line\n",
        "with open(file_path, \"r\") as file:\n",
        "    lines = file.readlines()\n",
        "\n",
        "with open(file_path, \"w\") as file:\n",
        "    for line in lines:\n",
        "        if \"torch.load(netArc_checkpoint\" in line and \"weights_only=\" not in line:\n",
        "            # Add weights_only=False argument\n",
        "            line = line.replace(\n",
        "                \"torch.load(netArc_checkpoint, map_location=torch.device(\\\"cpu\\\"))\",\n",
        "                \"torch.load(netArc_checkpoint, map_location=torch.device(\\\"cpu\\\"), weights_only=False)\"\n",
        "            )\n",
        "        file.write(line)\n",
        "\n",
        "print(\"✅ Line updated successfully.\")"
      ],
      "metadata": {
        "id": "DCeDnpWqhRd_",
        "outputId": "575fdd2c-116b-43b8-b8e8-01cd3eb44e93",
        "colab": {
          "base_uri": "https://localhost:8080/"
        }
      },
      "execution_count": 9,
      "outputs": [
        {
          "output_type": "stream",
          "name": "stdout",
          "text": [
            "✅ Line updated successfully.\n"
          ]
        }
      ]
    },
    {
      "cell_type": "code",
      "execution_count": 10,
      "metadata": {
        "id": "XCxHa4oW507s",
        "outputId": "a86ac613-7c51-473e-84a4-0ee123fe7d22",
        "colab": {
          "base_uri": "https://localhost:8080/"
        }
      },
      "outputs": [
        {
          "output_type": "stream",
          "name": "stdout",
          "text": [
            "/content/SimSwap\n",
            " arcface_model\t       predict.py\n",
            " checkpoints\t       README.md\n",
            " cog.yaml\t      'SimSwap colab.ipynb'\n",
            " crop_224\t       simswaplogo\n",
            " data\t\t       test_one_image.py\n",
            " demo_file\t       test_video_swapmulti.py\n",
            " docs\t\t       test_video_swap_multispecific.py\n",
            " download-weights.sh   test_video_swapsingle.py\n",
            " insightface_func      test_video_swapspecific.py\n",
            " LICENSE\t       test_wholeimage_swapmulti.py\n",
            " models\t\t       test_wholeimage_swap_multispecific.py\n",
            " MultiSpecific.ipynb   test_wholeimage_swapsingle.py\n",
            " options\t       test_wholeimage_swapspecific.py\n",
            " output\t\t       train.ipynb\n",
            " parsing_model\t       train.py\n",
            " pg_modules\t       util\n",
            "2025-07-03 18:21:21.110574: E external/local_xla/xla/stream_executor/cuda/cuda_fft.cc:477] Unable to register cuFFT factory: Attempting to register factory for plugin cuFFT when one has already been registered\n",
            "WARNING: All log messages before absl::InitializeLog() is called are written to STDERR\n",
            "E0000 00:00:1751566881.130601    5718 cuda_dnn.cc:8310] Unable to register cuDNN factory: Attempting to register factory for plugin cuDNN when one has already been registered\n",
            "E0000 00:00:1751566881.136808    5718 cuda_blas.cc:1418] Unable to register cuBLAS factory: Attempting to register factory for plugin cuBLAS when one has already been registered\n",
            "2025-07-03 18:21:21.159012: I tensorflow/core/platform/cpu_feature_guard.cc:210] This TensorFlow binary is optimized to use available CPU instructions in performance-critical operations.\n",
            "To enable the following instructions: AVX2 AVX512F FMA, in other operations, rebuild TensorFlow with the appropriate compiler flags.\n",
            "------------ Options -------------\n",
            "Arc_path: arcface_model/arcface_checkpoint.tar\n",
            "Gdeep: False\n",
            "batchSize: 4\n",
            "beta1: 0.0\n",
            "checkpoints_dir: ./checkpoints\n",
            "continue_train: False\n",
            "dataset: /content/TrainingData/vggface2_crop_arcfacealign_224\n",
            "gpu_ids: 0\n",
            "isTrain: True\n",
            "lambda_feat: 10.0\n",
            "lambda_id: 30.0\n",
            "lambda_rec: 10.0\n",
            "load_pretrain: ./checkpoints/simswap224_test\n",
            "log_frep: 200\n",
            "lr: 0.0004\n",
            "model_freq: 10000\n",
            "name: simswap224_test\n",
            "niter: 10000\n",
            "niter_decay: 10000\n",
            "phase: train\n",
            "sample_freq: 1000\n",
            "total_step: 1000000\n",
            "use_tensorboard: False\n",
            "which_epoch: 10000\n",
            "-------------- End ----------------\n",
            "GPU used :  0\n",
            "Downloading: \"https://github.com/rwightman/pytorch-image-models/releases/download/v0.1-weights/tf_efficientnet_lite0-0aa007d2.pth\" to /root/.cache/torch/hub/checkpoints/tf_efficientnet_lite0-0aa007d2.pth\n",
            "processing Swapping dataset images...\n",
            "Finished preprocessing the Swapping dataset, total dirs number: 8631...\n",
            "/usr/local/lib/python3.11/dist-packages/torch/utils/data/dataloader.py:624: UserWarning: This DataLoader will create 8 worker processes in total. Our suggested max number of worker in current system is 2, which is smaller than what this DataLoader is going to create. Please be aware that excessive worker creation might get DataLoader running slow or even freeze, lower the worker number to avoid potential slowness/freeze if necessary.\n",
            "  warnings.warn(\n",
            "Start to train at 2025-07-03 18:21:35\n",
            "\n",
            "   _____  __                __     ______              _         _              \n",
            "  / ___/ / /_ ____ _ _____ / /_   /_  __/_____ ____ _ (_)____   (_)____   ____ _\n",
            "  \\__ \\ / __// __ `// ___// __/    / /  / ___// __ `// // __ \\ / // __ \\ / __ `/\n",
            " ___/ // /_ / /_/ // /   / /_     / /  / /   / /_/ // // / / // // / / // /_/ / \n",
            "/____/ \\__/ \\__,_//_/    \\__/    /_/  /_/    \\__,_//_//_/ /_//_//_/ /_/ \\__, /  \n",
            "                                                                       /____/   \n",
            "        \n",
            "( step: 199, ) G_Loss: 6.748 G_ID: 0.973 G_Rec: 12.887 G_feat_match: 2.886 D_fake: 0.111 D_real: 0.063 D_loss: 0.175 \n",
            "( step: 399, ) G_Loss: 7.884 G_ID: 0.975 G_Rec: 9.720 G_feat_match: 2.891 D_fake: 0.135 D_real: 0.012 D_loss: 0.147 \n",
            "( step: 599, ) G_Loss: 7.163 G_ID: 0.927 G_Rec: 13.610 G_feat_match: 2.859 D_fake: 0.030 D_real: 0.010 D_loss: 0.039 \n",
            "( step: 799, ) G_Loss: 7.307 G_ID: 1.009 G_Rec: 12.389 G_feat_match: 2.902 D_fake: 0.001 D_real: 0.000 D_loss: 0.001 \n",
            "( step: 999, ) G_Loss: 6.562 G_ID: 1.010 G_Rec: 9.484 G_feat_match: 2.835 D_fake: 0.020 D_real: 0.005 D_loss: 0.026 \n",
            "Save test data\n",
            "Traceback (most recent call last):\n",
            "  File \"/content/SimSwap/train.py\", line 283, in <module>\n",
            "    plot_batch(imgs, os.path.join(sample_path, 'step_'+str(step+1)+'.jpg'))\n",
            "  File \"/content/SimSwap/util/plot.py\", line 32, in plot_batch\n",
            "    X = postprocess(X)\n",
            "        ^^^^^^^^^^^^^^\n",
            "  File \"/content/SimSwap/util/plot.py\", line 9, in postprocess\n",
            "    x = np.cast[np.uint8](x)\n",
            "        ^^^^^^^\n",
            "  File \"/usr/local/lib/python3.11/dist-packages/numpy/__init__.py\", line 397, in __getattr__\n",
            "    raise AttributeError(\n",
            "AttributeError: `np.cast` was removed in the NumPy 2.0 release. Use `np.asarray(arr, dtype=dtype)` instead.\n"
          ]
        }
      ],
      "source": [
        "%cd /content/SimSwap\n",
        "!ls\n",
        "!python train.py --name simswap224_test --gpu_ids 0 --dataset /content/TrainingData/vggface2_crop_arcfacealign_224 --Gdeep False"
      ]
    },
    {
      "cell_type": "code",
      "source": [],
      "metadata": {
        "id": "WUO-bABahC3O"
      },
      "execution_count": null,
      "outputs": []
    }
  ],
  "metadata": {
    "accelerator": "GPU",
    "colab": {
      "name": "train.ipynb",
      "provenance": [],
      "gpuType": "T4"
    },
    "kernelspec": {
      "display_name": "Python 3",
      "name": "python3"
    },
    "language_info": {
      "name": "python",
      "version": "3.8.5"
    }
  },
  "nbformat": 4,
  "nbformat_minor": 0
}